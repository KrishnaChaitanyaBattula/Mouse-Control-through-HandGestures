{
 "cells": [
  {
   "cell_type": "code",
   "execution_count": 28,
   "metadata": {},
   "outputs": [],
   "source": [
    "import cv2\n",
    "import util"
   ]
  },
  {
   "cell_type": "code",
   "execution_count": 29,
   "metadata": {},
   "outputs": [],
   "source": [
    "#pyautogui  also contains modules to control mmouse but pynput provides better methods for mouse operations\n",
    "import pyautogui\n",
    "from pynput.mouse import Button,Controller\n",
    "mouse=Controller()"
   ]
  },
  {
   "cell_type": "code",
   "execution_count": 30,
   "metadata": {},
   "outputs": [],
   "source": [
    "import random\n",
    "import mediapipe as mp\n",
    "#helps to give landmarks to fingers and identify the required marks"
   ]
  },
  {
   "cell_type": "code",
   "execution_count": 31,
   "metadata": {},
   "outputs": [],
   "source": [
    "screen_width ,screen_height=pyautogui.size()\n",
    "mpHands=mp.solutions.hands\n",
    "hands=mpHands.Hands(\n",
    "    static_image_mode=False,\n",
    "    model_complexity=1,\n",
    "    min_detection_confidence=0.7,\n",
    "    #track if visibility is above  70%\n",
    "    min_tracking_confidence=0.7,\n",
    "    #max hands in a frame should be 1\n",
    "    max_num_hands=1\n",
    ")"
   ]
  },
  {
   "cell_type": "code",
   "execution_count": 32,
   "metadata": {},
   "outputs": [],
   "source": [
    "def find_finger_tip(processed):\n",
    "    if processed.multi_hand_landmarks:\n",
    "        hand_landmarks=processed.multi_hand_landmarks[0]\n",
    "        return hand_landmarks.landmark[mpHands.HandLandmark.INDEX_FINGER_TIP]\n",
    "    return None"
   ]
  },
  {
   "cell_type": "code",
   "execution_count": 33,
   "metadata": {},
   "outputs": [],
   "source": [
    "def move_mouse(index_finger_tip):\n",
    "    if index_finger_tip is not None:\n",
    "        x=int(index_finger_tip.x*screen_width)\n",
    "        y=int(index_finger_tip.y*screen_height)\n",
    "        pyautogui.moveTo(x,y)"
   ]
  },
  {
   "cell_type": "code",
   "execution_count": 34,
   "metadata": {},
   "outputs": [],
   "source": [
    "def is_left_click(landmarks_list,thumb_index_dist):\n",
    "    return (util.get_angle(landmarks_list[5],landmarks_list[6],landmarks_list[8])<50 and \n",
    "            util.get_angle(landmarks_list[9] ,landmarks_list[10],landmarks_list[12])>90 and thumb_index_dist>50)\n",
    "def is_right_click(landmarks_list,thumb_index_dist):\n",
    "    return (util.get_angle(landmarks_list[9],landmarks_list[10],landmarks_list[12])<50 and \n",
    "            util.get_angle(landmarks_list[5] ,landmarks_list[6],landmarks_list[8])>90 and thumb_index_dist>50)\n",
    "def is_double_click(landmarks_list,thumb_index_dist):\n",
    "    return (util.get_angle(landmarks_list[5],landmarks_list[6],landmarks_list[8])<50 and \n",
    "            util.get_angle(landmarks_list[9] ,landmarks_list[10],landmarks_list[12])<50 and thumb_index_dist>50)\n",
    "def is_screenshot(landmarks_list,thumb_index_dist):\n",
    "    return (util.get_angle(landmarks_list[5],landmarks_list[6],landmarks_list[8])<50 and \n",
    "            util.get_angle(landmarks_list[9] ,landmarks_list[10],landmarks_list[12])<50 and thumb_index_dist<50)\n"
   ]
  },
  {
   "cell_type": "code",
   "execution_count": 35,
   "metadata": {},
   "outputs": [],
   "source": [
    "def detect_gestures(frame,landmarks_list,processed):\n",
    "    if len(landmarks_list)>=21:\n",
    "        index_finger_tip=find_finger_tip(processed)\n",
    "        thumb_index_dist=util.get_distance((landmarks_list[4],landmarks_list[5]))\n",
    "        if thumb_index_dist<50 and util.get_angle(landmarks_list[5],landmarks_list[6],landmarks_list[8])>90:\n",
    "            move_mouse(index_finger_tip)\n",
    "        #now code for left click operation method is_left_click\n",
    "        elif is_left_click(landmarks_list,thumb_index_dist):\n",
    "            mouse.press(Button.left)\n",
    "            cv2.putText(frame,\"Left Click\",(50 ,50), cv2.FONT_HERSHEY_COMPLEX,1,(0,255,0),2)\n",
    "            \n",
    "         #right click   \n",
    "        elif is_right_click(landmarks_list,thumb_index_dist):\n",
    "            mouse.press(Button.right)\n",
    "            mouse.release(Button.right)\n",
    "            cv2.putText(frame,\"Right Click\",(50 ,50), cv2.FONT_HERSHEY_COMPLEX,1,(0,255,0),2)\n",
    "            \n",
    "        #double click    \n",
    "        elif is_double_click(landmarks_list,thumb_index_dist):\n",
    "            pyautogui.doubleClick()\n",
    "            cv2.putText(frame,\"Double Click\",(50 ,50), cv2.FONT_HERSHEY_COMPLEX,1,(255,255,0),2)\n",
    "            \n",
    "            \n",
    "        #screenshot\n",
    "        elif is_screenshot(landmarks_list,thumb_index_dist):\n",
    "            im1=pyautogui.screenshot()\n",
    "            label=random.randint(1,1000)\n",
    "            im1.save(f'my_screenshot_{label}.png')\n",
    "            cv2.putText(frame,\"Screenshot taken\",(50,50),cv2.FONT_HERSHEY_COMPLEX,1,(255,255,0),2)\n",
    "            \n",
    "            "
   ]
  },
  {
   "cell_type": "code",
   "execution_count": 36,
   "metadata": {},
   "outputs": [],
   "source": [
    "def main():\n",
    "    capture = cv2.VideoCapture(0)\n",
    "    draw=mp.solutions.drawing_utils\n",
    "    try:\n",
    "        while capture.isOpened():\n",
    "            ret, frame = capture.read()\n",
    "            if not ret:\n",
    "                break\n",
    "            frame = cv2.flip(frame, 1)\n",
    "            frameRGB=cv2.cvtColor(frame,cv2.COLOR_BGR2RGB)\n",
    "            #it will process the frame and identify all landmarks\n",
    "            processed=hands.process(frameRGB)\n",
    "            landmarks_list=[]\n",
    "            if processed.multi_hand_landmarks:\n",
    "                hand_landmarks=processed.multi_hand_landmarks[0]\n",
    "                draw.draw_landmarks(frame,hand_landmarks,mpHands.HAND_CONNECTIONS)\n",
    "                for lm in hand_landmarks.landmark:\n",
    "                    landmarks_list.append((lm.x,lm.y))\n",
    "                detect_gestures(frame,landmarks_list,processed)\n",
    "                #print(landmarks_list)\n",
    "            cv2.imshow('frame', frame)\n",
    "            if cv2.waitKey(1) & 0xFF == ord('c'):\n",
    "                break\n",
    "    finally:\n",
    "        capture.release()\n",
    "        cv2.destroyAllWindows()\n",
    "\n",
    "if __name__ == '__main__':\n",
    "    main()"
   ]
  },
  {
   "cell_type": "code",
   "execution_count": null,
   "metadata": {},
   "outputs": [],
   "source": []
  }
 ],
 "metadata": {
  "kernelspec": {
   "display_name": "Python 3",
   "language": "python",
   "name": "python3"
  },
  "language_info": {
   "codemirror_mode": {
    "name": "ipython",
    "version": 3
   },
   "file_extension": ".py",
   "mimetype": "text/x-python",
   "name": "python",
   "nbconvert_exporter": "python",
   "pygments_lexer": "ipython3",
   "version": "3.11.2"
  },
  "orig_nbformat": 4
 },
 "nbformat": 4,
 "nbformat_minor": 2
}
